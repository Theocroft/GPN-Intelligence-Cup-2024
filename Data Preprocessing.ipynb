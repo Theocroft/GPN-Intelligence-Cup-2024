{
 "cells": [
  {
   "cell_type": "markdown",
   "metadata": {},
   "source": [
    "## Подготовка данных для модели машинного обучения\n",
    "\n"
   ]
  },
  {
   "cell_type": "markdown",
   "metadata": {},
   "source": [
    "В данном ноутбуке будет производится разведочный анализ данных предлагаемого датасета, а также будет проводиться подготовка к формированию итогового датасета, который будет использоваться для итоговых моделей.\n",
    "\n",
    "В данном разделе будут проведены следующие действия:\n",
    "- поиск и заполнение отсутствующих данных. \n",
    "- устранение нетипичных значений - выбросов. \n",
    "- устранение дубликатов и т.д. "
   ]
  },
  {
   "cell_type": "markdown",
   "metadata": {},
   "source": [
    "### Этап 1. Загрузка стандартных библиотек и загрузка датасета"
   ]
  },
  {
   "cell_type": "code",
   "execution_count": 339,
   "metadata": {},
   "outputs": [],
   "source": [
    "## Импорт стандартных библиотек\n",
    "import pandas as pd\n",
    "import numpy as np\n",
    "\n",
    "## Импорт библиотек для визуализации данных\n",
    "import matplotlib.pyplot as plt\n",
    "import matplotlib.mlab as mlab\n",
    "import matplotlib\n",
    "plt.style.use('ggplot')\n",
    "from matplotlib.pyplot import figure\n",
    "import seaborn as sns\n",
    "\n",
    "## Прочие библиотеки\n",
    "import warnings"
   ]
  },
  {
   "cell_type": "markdown",
   "metadata": {},
   "source": [
    "Загрузка данных происходит из директории Data/Raw, где содержатся необработанные данные. Также после загрузки необходимо проверить общую струуктуру данных - сколько строк и столбцовв есть в датасете, проверить типы столбцов - необходимо проверить, являются ли они числовыми. \n",
    "\n",
    "Если столбцы числовыми не являются, то в одном случае можно применить энкодеры для кодировки текста в значения, в другом случае - просто поменять тип столбца на числовой. "
   ]
  },
  {
   "cell_type": "code",
   "execution_count": 340,
   "metadata": {},
   "outputs": [
    {
     "name": "stdout",
     "output_type": "stream",
     "text": [
      "(11934, 18)\n",
      "Вектор Мощи                       float64\n",
      "Скорость перехода через портал    float64\n",
      "Приток Силы Потока                float64\n",
      "Ритм магического ядра             float64\n",
      "Поток Энергий                     float64\n",
      "Сила Левого Потока                float64\n",
      "Сила Правого Потока               float64\n",
      "Пламя Стихий                      float64\n",
      "Температура вдоха Истока            int64\n",
      "Температура выдоха Истока          object\n",
      "Приток давления Выдоха Истока     float64\n",
      "Давление вдоха Истока             float64\n",
      "Давление выдоха Истока            float64\n",
      "Древний Ветер                      object\n",
      "Печать Чародея                    float64\n",
      "Эмульсия Истока                   float64\n",
      "Дыхание Истока                    float64\n",
      "Гармония Бессмертия               float64\n",
      "dtype: object\n"
     ]
    }
   ],
   "source": [
    "# Загрузка данных\n",
    "df = pd.read_csv(\"Data/Raw/data.csv\")\n",
    "df = pd.DataFrame(df)\n",
    "print(df.shape)\n",
    "print(df.dtypes)"
   ]
  },
  {
   "cell_type": "markdown",
   "metadata": {},
   "source": [
    "Датасет имеет порядка 12 тыс. строк и 18 столбцов. При этом два столбца - 'Температура выдоха Истока' и 'Древний Ветер' не являются числовыми столбцами. \n",
    "\n",
    "- Температура выдоха Истока - температура воздуха, исходящего из магического ускорителя портала, в градусах Цельсия.\n",
    "- Древний Ветер - давление древней магической энергии, покидающей портал в виде выхлопного потока.\n",
    "\n",
    "Нужно их рассмотреть подробнее."
   ]
  },
  {
   "cell_type": "code",
   "execution_count": 341,
   "metadata": {},
   "outputs": [
    {
     "data": {
      "text/plain": [
       "0        Исток не вернул выдох\n",
       "1                      581.658\n",
       "2        Исток не вернул выдох\n",
       "3        Исток не вернул выдох\n",
       "4                      645.642\n",
       "                 ...          \n",
       "11929                   628.95\n",
       "11930    Исток не вернул выдох\n",
       "11931                  680.393\n",
       "11932    Исток не вернул выдох\n",
       "11933    Исток не вернул выдох\n",
       "Name: Температура выдоха Истока, Length: 11934, dtype: object"
      ]
     },
     "execution_count": 341,
     "metadata": {},
     "output_type": "execute_result"
    }
   ],
   "source": [
    "df[\"Температура выдоха Истока\"]"
   ]
  },
  {
   "cell_type": "code",
   "execution_count": 342,
   "metadata": {},
   "outputs": [
    {
     "data": {
      "text/plain": [
       "Температура выдоха Истока\n",
       "Исток не вернул выдох    9547\n",
       "635.572                     2\n",
       "606.098                     2\n",
       "565.712                     2\n",
       "600.093                     2\n",
       "                         ... \n",
       "691.172                     1\n",
       "564.919                     1\n",
       "637.581                     1\n",
       "779.856                     1\n",
       "680.393                     1\n",
       "Name: count, Length: 2369, dtype: int64"
      ]
     },
     "execution_count": 342,
     "metadata": {},
     "output_type": "execute_result"
    }
   ],
   "source": [
    "counts = df[\"Температура выдоха Истока\"].value_counts()\n",
    "counts"
   ]
  },
  {
   "cell_type": "code",
   "execution_count": 343,
   "metadata": {},
   "outputs": [
    {
     "data": {
      "text/plain": [
       "0     Древний Ветер развеялся\n",
       "1                       1.019\n",
       "2     Древний Ветер развеялся\n",
       "3     Древний Ветер развеялся\n",
       "4                       1.026\n",
       "               ...           \n",
       "95    Древний Ветер развеялся\n",
       "96    Древний Ветер развеялся\n",
       "97    Древний Ветер развеялся\n",
       "98                      1.049\n",
       "99    Древний Ветер развеялся\n",
       "Name: Древний Ветер, Length: 100, dtype: object"
      ]
     },
     "execution_count": 343,
     "metadata": {},
     "output_type": "execute_result"
    }
   ],
   "source": [
    "df[\"Древний Ветер\"].head(100)"
   ]
  },
  {
   "cell_type": "code",
   "execution_count": 344,
   "metadata": {},
   "outputs": [
    {
     "data": {
      "text/plain": [
       "Древний Ветер\n",
       "Древний Ветер развеялся    9547\n",
       "1.019                       371\n",
       "1.02                        348\n",
       "1.026                       209\n",
       "1.03                        192\n",
       "1.023                       170\n",
       "1.036                       145\n",
       "1.042                       128\n",
       "1.041                       124\n",
       "1.035                       122\n",
       "1.022                       109\n",
       "1.031                        96\n",
       "1.051                        81\n",
       "1.05                         72\n",
       "1.027                        72\n",
       "1.049                        65\n",
       "1.021                        44\n",
       "1.052                        35\n",
       "1.043                         3\n",
       "1.04                          1\n",
       "Name: count, dtype: int64"
      ]
     },
     "execution_count": 344,
     "metadata": {},
     "output_type": "execute_result"
    }
   ],
   "source": [
    "counts1 = df[\"Древний Ветер\"].value_counts()\n",
    "counts1"
   ]
  },
  {
   "cell_type": "markdown",
   "metadata": {},
   "source": [
    "Данные столбцы имеют в себе несколько текстовых значений - \"Исток не вернул выдох\" и \"Древний Ветер развеялся\". При этом текстовых значений достаточно большое количество относительно общего датасета - 9547. В данном случае мы не можем убрать такие строки из датасета, в силу его небольшого объема. \n",
    "\n",
    "При заполнении медианными или средними значениями мы получим очень сильный перекос в данных, так как текстовых значений слишком много. Поэтому предлагается заполнить текстовые значения нулевыми значениями. \n",
    "\n",
    "Дополнительно также стоит отметить, что значения под своими наименованиями предполагают, что данные для этимх показателей при работе портала не были получены. В таком случае действительно целесообразнее заменить эти значения нулями на данном этапе. "
   ]
  },
  {
   "cell_type": "code",
   "execution_count": 345,
   "metadata": {},
   "outputs": [
    {
     "name": "stdout",
     "output_type": "stream",
     "text": [
      "Вектор Мощи                       float64\n",
      "Скорость перехода через портал    float64\n",
      "Приток Силы Потока                float64\n",
      "Ритм магического ядра             float64\n",
      "Поток Энергий                     float64\n",
      "Сила Левого Потока                float64\n",
      "Сила Правого Потока               float64\n",
      "Пламя Стихий                      float64\n",
      "Температура вдоха Истока            int64\n",
      "Температура выдоха Истока         float64\n",
      "Приток давления Выдоха Истока     float64\n",
      "Давление вдоха Истока             float64\n",
      "Давление выдоха Истока            float64\n",
      "Древний Ветер                     float64\n",
      "Печать Чародея                    float64\n",
      "Эмульсия Истока                   float64\n",
      "Дыхание Истока                    float64\n",
      "Гармония Бессмертия               float64\n",
      "dtype: object\n"
     ]
    }
   ],
   "source": [
    "df['Древний Ветер'] = df['Древний Ветер'].str.replace(\"Древний Ветер развеялся\", \"0\", case=False, regex=False)\n",
    "df['Температура выдоха Истока'] = df['Температура выдоха Истока'].str.replace(\"Исток не вернул выдох\", \"0\", case=False, regex=False)\n",
    "df = df.astype({'Температура выдоха Истока': 'float64'})\n",
    "df = df.astype({'Древний Ветер': 'float64'})\n",
    "print(df.dtypes)"
   ]
  },
  {
   "cell_type": "markdown",
   "metadata": {},
   "source": [
    "Дополнительно проверим данные на наличие пропусков в значениях."
   ]
  },
  {
   "cell_type": "code",
   "execution_count": 346,
   "metadata": {},
   "outputs": [
    {
     "name": "stdout",
     "output_type": "stream",
     "text": [
      "Вектор Мощи - 0%\n",
      "Скорость перехода через портал - 0%\n",
      "Приток Силы Потока - 0%\n",
      "Ритм магического ядра - 0%\n",
      "Поток Энергий - 0%\n",
      "Сила Левого Потока - 0%\n",
      "Сила Правого Потока - 0%\n",
      "Пламя Стихий - 0%\n",
      "Температура вдоха Истока - 0%\n",
      "Температура выдоха Истока - 0%\n",
      "Приток давления Выдоха Истока - 0%\n",
      "Давление вдоха Истока - 0%\n",
      "Давление выдоха Истока - 0%\n",
      "Древний Ветер - 0%\n",
      "Печать Чародея - 0%\n",
      "Эмульсия Истока - 0%\n",
      "Дыхание Истока - 0%\n",
      "Гармония Бессмертия - 0%\n"
     ]
    }
   ],
   "source": [
    "for col in df.columns:\n",
    "    pct_missing = np.mean(df[col].isnull())\n",
    "    print('{} - {}%'.format(col, round(pct_missing*100)))"
   ]
  },
  {
   "cell_type": "markdown",
   "metadata": {},
   "source": [
    "В данном случае пропусков в данных не наблюдается. Можно переходить к этапу анализа выбросов."
   ]
  },
  {
   "cell_type": "markdown",
   "metadata": {},
   "source": [
    "### Этап 2. Анализ и корректировка выбросов "
   ]
  },
  {
   "cell_type": "markdown",
   "metadata": {},
   "source": [
    "В рамках анализа выбросов будет использоваться метод, основанный на стандартизированной оценке, для анализа распределений числовых признаков. Данные, в которых наблюдаются выбросы или которые имеют нерелеватные (дубли, единственные значения и т.д.) значения будут корректироваться или удалятся. "
   ]
  },
  {
   "cell_type": "markdown",
   "metadata": {},
   "source": [
    "Сначала найдем в датасете информацию о том, какие стобцы имеют единственные значения, и которыми можно пренебречь (они на результат работы модели влиять не будут)."
   ]
  },
  {
   "cell_type": "code",
   "execution_count": 347,
   "metadata": {},
   "outputs": [
    {
     "name": "stdout",
     "output_type": "stream",
     "text": [
      "Вектор Мощи                           9\n",
      "Скорость перехода через портал        9\n",
      "Приток Силы Потока                11430\n",
      "Ритм магического ядра              3888\n",
      "Поток Энергий                     11834\n",
      "Сила Левого Потока                 4286\n",
      "Сила Правого Потока                4286\n",
      "Пламя Стихий                      11772\n",
      "Температура вдоха Истока              1\n",
      "Температура выдоха Истока          2369\n",
      "Приток давления Выдоха Истока       524\n",
      "Давление вдоха Истока                 1\n",
      "Давление выдоха Истока             4209\n",
      "Древний Ветер                        20\n",
      "Печать Чародея                     8496\n",
      "Эмульсия Истока                     696\n",
      "Дыхание Истока                       51\n",
      "Гармония Бессмертия                  26\n",
      "dtype: int64\n"
     ]
    }
   ],
   "source": [
    "print(df.nunique())"
   ]
  },
  {
   "cell_type": "markdown",
   "metadata": {},
   "source": [
    "Предварительный анализ показал, что в датасете есть два столбца, которые имеют единственнное значение. Их можно из датасета убрать как неинформативные."
   ]
  },
  {
   "cell_type": "code",
   "execution_count": 348,
   "metadata": {},
   "outputs": [],
   "source": [
    "df = df[[c for c\n",
    "        in list(df)\n",
    "        if len(df[c].unique()) > 1]]"
   ]
  },
  {
   "cell_type": "markdown",
   "metadata": {},
   "source": [
    "Далее проверим датасет на наличие дубликатов строк и избавимся от них. "
   ]
  },
  {
   "cell_type": "code",
   "execution_count": 349,
   "metadata": {},
   "outputs": [
    {
     "data": {
      "text/html": [
       "<div>\n",
       "<style scoped>\n",
       "    .dataframe tbody tr th:only-of-type {\n",
       "        vertical-align: middle;\n",
       "    }\n",
       "\n",
       "    .dataframe tbody tr th {\n",
       "        vertical-align: top;\n",
       "    }\n",
       "\n",
       "    .dataframe thead th {\n",
       "        text-align: right;\n",
       "    }\n",
       "</style>\n",
       "<table border=\"1\" class=\"dataframe\">\n",
       "  <thead>\n",
       "    <tr style=\"text-align: right;\">\n",
       "      <th></th>\n",
       "      <th>Вектор Мощи</th>\n",
       "      <th>Скорость перехода через портал</th>\n",
       "      <th>Приток Силы Потока</th>\n",
       "      <th>Ритм магического ядра</th>\n",
       "      <th>Поток Энергий</th>\n",
       "      <th>Сила Левого Потока</th>\n",
       "      <th>Сила Правого Потока</th>\n",
       "      <th>Пламя Стихий</th>\n",
       "      <th>Температура выдоха Истока</th>\n",
       "      <th>Приток давления Выдоха Истока</th>\n",
       "      <th>Давление выдоха Истока</th>\n",
       "      <th>Древний Ветер</th>\n",
       "      <th>Печать Чародея</th>\n",
       "      <th>Эмульсия Истока</th>\n",
       "      <th>Дыхание Истока</th>\n",
       "      <th>Гармония Бессмертия</th>\n",
       "    </tr>\n",
       "  </thead>\n",
       "  <tbody>\n",
       "    <tr>\n",
       "      <th>0</th>\n",
       "      <td>1.138</td>\n",
       "      <td>1.54332</td>\n",
       "      <td>289.964</td>\n",
       "      <td>141.318158</td>\n",
       "      <td>6677.380</td>\n",
       "      <td>7.584</td>\n",
       "      <td>7.584</td>\n",
       "      <td>464.006</td>\n",
       "      <td>0.000</td>\n",
       "      <td>1.096</td>\n",
       "      <td>5.947</td>\n",
       "      <td>0.000</td>\n",
       "      <td>7.137</td>\n",
       "      <td>0.082</td>\n",
       "      <td>0.95</td>\n",
       "      <td>0.975</td>\n",
       "    </tr>\n",
       "    <tr>\n",
       "      <th>1</th>\n",
       "      <td>2.088</td>\n",
       "      <td>3.08664</td>\n",
       "      <td>6960.180</td>\n",
       "      <td>144.111767</td>\n",
       "      <td>6828.469</td>\n",
       "      <td>28.204</td>\n",
       "      <td>28.204</td>\n",
       "      <td>635.401</td>\n",
       "      <td>581.658</td>\n",
       "      <td>1.331</td>\n",
       "      <td>7.282</td>\n",
       "      <td>1.019</td>\n",
       "      <td>10.655</td>\n",
       "      <td>0.287</td>\n",
       "      <td>0.95</td>\n",
       "      <td>0.975</td>\n",
       "    </tr>\n",
       "    <tr>\n",
       "      <th>2</th>\n",
       "      <td>3.144</td>\n",
       "      <td>4.62996</td>\n",
       "      <td>8379.229</td>\n",
       "      <td>145.220853</td>\n",
       "      <td>7111.811</td>\n",
       "      <td>60.358</td>\n",
       "      <td>60.358</td>\n",
       "      <td>606.002</td>\n",
       "      <td>0.000</td>\n",
       "      <td>1.389</td>\n",
       "      <td>7.574</td>\n",
       "      <td>0.000</td>\n",
       "      <td>13.086</td>\n",
       "      <td>0.259</td>\n",
       "      <td>0.95</td>\n",
       "      <td>0.975</td>\n",
       "    </tr>\n",
       "    <tr>\n",
       "      <th>3</th>\n",
       "      <td>4.161</td>\n",
       "      <td>6.17328</td>\n",
       "      <td>14724.395</td>\n",
       "      <td>162.050156</td>\n",
       "      <td>7792.630</td>\n",
       "      <td>113.774</td>\n",
       "      <td>113.774</td>\n",
       "      <td>661.471</td>\n",
       "      <td>0.000</td>\n",
       "      <td>1.658</td>\n",
       "      <td>9.007</td>\n",
       "      <td>0.000</td>\n",
       "      <td>18.109</td>\n",
       "      <td>0.358</td>\n",
       "      <td>0.95</td>\n",
       "      <td>0.975</td>\n",
       "    </tr>\n",
       "    <tr>\n",
       "      <th>4</th>\n",
       "      <td>5.140</td>\n",
       "      <td>7.71660</td>\n",
       "      <td>21636.432</td>\n",
       "      <td>201.513586</td>\n",
       "      <td>8494.777</td>\n",
       "      <td>175.306</td>\n",
       "      <td>175.306</td>\n",
       "      <td>731.494</td>\n",
       "      <td>645.642</td>\n",
       "      <td>2.078</td>\n",
       "      <td>11.197</td>\n",
       "      <td>1.026</td>\n",
       "      <td>26.373</td>\n",
       "      <td>0.522</td>\n",
       "      <td>0.95</td>\n",
       "      <td>0.975</td>\n",
       "    </tr>\n",
       "    <tr>\n",
       "      <th>...</th>\n",
       "      <td>...</td>\n",
       "      <td>...</td>\n",
       "      <td>...</td>\n",
       "      <td>...</td>\n",
       "      <td>...</td>\n",
       "      <td>...</td>\n",
       "      <td>...</td>\n",
       "      <td>...</td>\n",
       "      <td>...</td>\n",
       "      <td>...</td>\n",
       "      <td>...</td>\n",
       "      <td>...</td>\n",
       "      <td>...</td>\n",
       "      <td>...</td>\n",
       "      <td>...</td>\n",
       "      <td>...</td>\n",
       "    </tr>\n",
       "    <tr>\n",
       "      <th>11929</th>\n",
       "      <td>5.140</td>\n",
       "      <td>7.71660</td>\n",
       "      <td>21624.934</td>\n",
       "      <td>201.516623</td>\n",
       "      <td>8470.013</td>\n",
       "      <td>175.239</td>\n",
       "      <td>175.239</td>\n",
       "      <td>681.658</td>\n",
       "      <td>628.950</td>\n",
       "      <td>2.087</td>\n",
       "      <td>10.990</td>\n",
       "      <td>1.027</td>\n",
       "      <td>23.803</td>\n",
       "      <td>0.471</td>\n",
       "      <td>1.00</td>\n",
       "      <td>1.000</td>\n",
       "    </tr>\n",
       "    <tr>\n",
       "      <th>11930</th>\n",
       "      <td>6.175</td>\n",
       "      <td>9.25992</td>\n",
       "      <td>29763.213</td>\n",
       "      <td>241.561772</td>\n",
       "      <td>8800.352</td>\n",
       "      <td>245.954</td>\n",
       "      <td>245.954</td>\n",
       "      <td>747.405</td>\n",
       "      <td>0.000</td>\n",
       "      <td>2.512</td>\n",
       "      <td>13.109</td>\n",
       "      <td>0.000</td>\n",
       "      <td>32.671</td>\n",
       "      <td>0.647</td>\n",
       "      <td>1.00</td>\n",
       "      <td>1.000</td>\n",
       "    </tr>\n",
       "    <tr>\n",
       "      <th>11931</th>\n",
       "      <td>7.148</td>\n",
       "      <td>10.80324</td>\n",
       "      <td>39003.867</td>\n",
       "      <td>280.444950</td>\n",
       "      <td>9120.889</td>\n",
       "      <td>332.389</td>\n",
       "      <td>332.389</td>\n",
       "      <td>796.457</td>\n",
       "      <td>680.393</td>\n",
       "      <td>2.982</td>\n",
       "      <td>15.420</td>\n",
       "      <td>1.036</td>\n",
       "      <td>42.104</td>\n",
       "      <td>0.834</td>\n",
       "      <td>1.00</td>\n",
       "      <td>1.000</td>\n",
       "    </tr>\n",
       "    <tr>\n",
       "      <th>11932</th>\n",
       "      <td>8.206</td>\n",
       "      <td>12.34656</td>\n",
       "      <td>50992.579</td>\n",
       "      <td>323.315332</td>\n",
       "      <td>9300.274</td>\n",
       "      <td>438.024</td>\n",
       "      <td>438.024</td>\n",
       "      <td>892.945</td>\n",
       "      <td>0.000</td>\n",
       "      <td>3.594</td>\n",
       "      <td>18.293</td>\n",
       "      <td>0.000</td>\n",
       "      <td>58.064</td>\n",
       "      <td>1.149</td>\n",
       "      <td>1.00</td>\n",
       "      <td>1.000</td>\n",
       "    </tr>\n",
       "    <tr>\n",
       "      <th>11933</th>\n",
       "      <td>9.300</td>\n",
       "      <td>13.88988</td>\n",
       "      <td>72775.130</td>\n",
       "      <td>372.844216</td>\n",
       "      <td>9742.950</td>\n",
       "      <td>644.880</td>\n",
       "      <td>644.880</td>\n",
       "      <td>1038.411</td>\n",
       "      <td>0.000</td>\n",
       "      <td>4.531</td>\n",
       "      <td>22.464</td>\n",
       "      <td>0.000</td>\n",
       "      <td>86.067</td>\n",
       "      <td>1.704</td>\n",
       "      <td>1.00</td>\n",
       "      <td>1.000</td>\n",
       "    </tr>\n",
       "  </tbody>\n",
       "</table>\n",
       "<p>11934 rows × 16 columns</p>\n",
       "</div>"
      ],
      "text/plain": [
       "       Вектор Мощи  Скорость перехода через портал  Приток Силы Потока  \\\n",
       "0            1.138                         1.54332             289.964   \n",
       "1            2.088                         3.08664            6960.180   \n",
       "2            3.144                         4.62996            8379.229   \n",
       "3            4.161                         6.17328           14724.395   \n",
       "4            5.140                         7.71660           21636.432   \n",
       "...            ...                             ...                 ...   \n",
       "11929        5.140                         7.71660           21624.934   \n",
       "11930        6.175                         9.25992           29763.213   \n",
       "11931        7.148                        10.80324           39003.867   \n",
       "11932        8.206                        12.34656           50992.579   \n",
       "11933        9.300                        13.88988           72775.130   \n",
       "\n",
       "       Ритм магического ядра  Поток Энергий  Сила Левого Потока  \\\n",
       "0                 141.318158       6677.380               7.584   \n",
       "1                 144.111767       6828.469              28.204   \n",
       "2                 145.220853       7111.811              60.358   \n",
       "3                 162.050156       7792.630             113.774   \n",
       "4                 201.513586       8494.777             175.306   \n",
       "...                      ...            ...                 ...   \n",
       "11929             201.516623       8470.013             175.239   \n",
       "11930             241.561772       8800.352             245.954   \n",
       "11931             280.444950       9120.889             332.389   \n",
       "11932             323.315332       9300.274             438.024   \n",
       "11933             372.844216       9742.950             644.880   \n",
       "\n",
       "       Сила Правого Потока  Пламя Стихий  Температура выдоха Истока  \\\n",
       "0                    7.584       464.006                      0.000   \n",
       "1                   28.204       635.401                    581.658   \n",
       "2                   60.358       606.002                      0.000   \n",
       "3                  113.774       661.471                      0.000   \n",
       "4                  175.306       731.494                    645.642   \n",
       "...                    ...           ...                        ...   \n",
       "11929              175.239       681.658                    628.950   \n",
       "11930              245.954       747.405                      0.000   \n",
       "11931              332.389       796.457                    680.393   \n",
       "11932              438.024       892.945                      0.000   \n",
       "11933              644.880      1038.411                      0.000   \n",
       "\n",
       "       Приток давления Выдоха Истока  Давление выдоха Истока  Древний Ветер  \\\n",
       "0                              1.096                   5.947          0.000   \n",
       "1                              1.331                   7.282          1.019   \n",
       "2                              1.389                   7.574          0.000   \n",
       "3                              1.658                   9.007          0.000   \n",
       "4                              2.078                  11.197          1.026   \n",
       "...                              ...                     ...            ...   \n",
       "11929                          2.087                  10.990          1.027   \n",
       "11930                          2.512                  13.109          0.000   \n",
       "11931                          2.982                  15.420          1.036   \n",
       "11932                          3.594                  18.293          0.000   \n",
       "11933                          4.531                  22.464          0.000   \n",
       "\n",
       "       Печать Чародея  Эмульсия Истока  Дыхание Истока  Гармония Бессмертия  \n",
       "0               7.137            0.082            0.95                0.975  \n",
       "1              10.655            0.287            0.95                0.975  \n",
       "2              13.086            0.259            0.95                0.975  \n",
       "3              18.109            0.358            0.95                0.975  \n",
       "4              26.373            0.522            0.95                0.975  \n",
       "...               ...              ...             ...                  ...  \n",
       "11929          23.803            0.471            1.00                1.000  \n",
       "11930          32.671            0.647            1.00                1.000  \n",
       "11931          42.104            0.834            1.00                1.000  \n",
       "11932          58.064            1.149            1.00                1.000  \n",
       "11933          86.067            1.704            1.00                1.000  \n",
       "\n",
       "[11934 rows x 16 columns]"
      ]
     },
     "execution_count": 349,
     "metadata": {},
     "output_type": "execute_result"
    }
   ],
   "source": [
    "df.drop_duplicates(inplace=True)\n",
    "df"
   ]
  },
  {
   "cell_type": "markdown",
   "metadata": {},
   "source": [
    "Как видно из таблицы выше, количество строк не изменилось, что говорит о том, что дубликатов в нашем датасете нет."
   ]
  },
  {
   "cell_type": "markdown",
   "metadata": {},
   "source": [
    "Следующим шагом будет поиск и удаление выбросов в датасете, если такие присутствуют. Для этого будем использовать метод, основанный на стандартизированной оценке (z-оценка, z-score). Эта оценка показывает на сколько средних квадратических отклонений значение отличается от среднего.\n",
    "\n",
    "Посмотрим ниже, наскольно данные в датасете отличаются от среднего. Известно, что 99,7% наблюдений будут лежать в пределах трех среднеквадратических отклонений. Для нахождения этого показателя, посмотрим, насколько каждое из наблюдений отличается  от среднего значения. И выведем строки, в которых хотябы одно из наблюдений находится за рамками 3 СКО."
   ]
  },
  {
   "cell_type": "code",
   "execution_count": 350,
   "metadata": {},
   "outputs": [
    {
     "data": {
      "text/html": [
       "<div>\n",
       "<style scoped>\n",
       "    .dataframe tbody tr th:only-of-type {\n",
       "        vertical-align: middle;\n",
       "    }\n",
       "\n",
       "    .dataframe tbody tr th {\n",
       "        vertical-align: top;\n",
       "    }\n",
       "\n",
       "    .dataframe thead th {\n",
       "        text-align: right;\n",
       "    }\n",
       "</style>\n",
       "<table border=\"1\" class=\"dataframe\">\n",
       "  <thead>\n",
       "    <tr style=\"text-align: right;\">\n",
       "      <th></th>\n",
       "      <th>Вектор Мощи</th>\n",
       "      <th>Скорость перехода через портал</th>\n",
       "      <th>Приток Силы Потока</th>\n",
       "      <th>Ритм магического ядра</th>\n",
       "      <th>Поток Энергий</th>\n",
       "      <th>Сила Левого Потока</th>\n",
       "      <th>Сила Правого Потока</th>\n",
       "      <th>Пламя Стихий</th>\n",
       "      <th>Температура выдоха Истока</th>\n",
       "      <th>Приток давления Выдоха Истока</th>\n",
       "      <th>Давление выдоха Истока</th>\n",
       "      <th>Древний Ветер</th>\n",
       "      <th>Печать Чародея</th>\n",
       "      <th>Эмульсия Истока</th>\n",
       "      <th>Дыхание Истока</th>\n",
       "      <th>Гармония Бессмертия</th>\n",
       "    </tr>\n",
       "  </thead>\n",
       "  <tbody>\n",
       "  </tbody>\n",
       "</table>\n",
       "</div>"
      ],
      "text/plain": [
       "Empty DataFrame\n",
       "Columns: [Вектор Мощи, Скорость перехода через портал, Приток Силы Потока, Ритм магического ядра, Поток Энергий, Сила Левого Потока, Сила Правого Потока, Пламя Стихий, Температура выдоха Истока, Приток давления Выдоха Истока, Давление выдоха Истока, Древний Ветер, Печать Чародея, Эмульсия Истока, Дыхание Истока, Гармония Бессмертия]\n",
       "Index: []"
      ]
     },
     "execution_count": 350,
     "metadata": {},
     "output_type": "execute_result"
    }
   ],
   "source": [
    "from scipy import stats\n",
    " \n",
    "z = stats.zscore(df)\n",
    "df[(np.abs(z) > 3).any(axis = 1)].head()"
   ]
  },
  {
   "cell_type": "markdown",
   "metadata": {},
   "source": [
    "Таким образом, метод, представленный выше, показал, что в нашем датасете по результатам предобработки данных нет существенных выбросов. "
   ]
  },
  {
   "cell_type": "markdown",
   "metadata": {},
   "source": [
    "### Этап 3. Корреляционный анализ"
   ]
  },
  {
   "cell_type": "markdown",
   "metadata": {},
   "source": [
    "Далее стоит рассмотреть данные на наличие мультиколлинеарности - наличии линейной зависимости между факторами модели, что в конечном итоге будет сказываться на ее качестве."
   ]
  },
  {
   "cell_type": "code",
   "execution_count": 351,
   "metadata": {},
   "outputs": [
    {
     "data": {
      "image/png": "[encoded data removed]",
      "text/plain": [
       "<Figure size 640x480 with 2 Axes>"
      ]
     },
     "metadata": {},
     "output_type": "display_data"
    }
   ],
   "source": [
    "sns.heatmap(df.corr(method='spearman'));"
   ]
  },
  {
   "cell_type": "markdown",
   "metadata": {},
   "source": [
    "Корреляционная матрица выше показывает, что между большинством факторов есть крайне высокая мультиколлинеарности, что в итоге повлечет  за собой проблемы в будущих моделях. В таком случае целесообразнее использовать дополнительную информацию по созданию новых расчетных полей и оценить из влияние друг на друга. \n",
    "\n",
    "- Для определения общей мощности потоков сначала сложите значения \"Силы Левого Потока\" и \"Силы Правого Потока\", чтобы получить представление о совокупной мощности.\n",
    "- Для более полной картины суммарной силы всех потоков дополнительно объедините \"Силу Левого Потока\", \"Силу Правого Потока\" и \"Приток Силы Потока\".\n",
    "- Общую силу ядра можно оценить, умножив \"Ритм магического ядра\" на \"Приток Силы Потока\", что даст показатель общей мощности ядра. \n",
    "- Общее давление на выходе можно рассчитать, сложив значения \"Притока давления Выдоха Истока\" и\n",
    "\"Давления выдоха Истока\".\n",
    "- Магическую производительность определяет отношение \"Скорости перехода через портал\" к \"Эмульсии Истока\" - это покажет, насколько эффективно топливо поддерживает скорость перехода. \n",
    "- Эффективность самого ядра можно вычислить, разделив его общую силу на \"Эмульсию Истока\".\n",
    "- Для расчёта магической мощности потребуется учесть \"Эмульсию Истока\", общее давление и разницу между \"Пламенем Стихий\" и \"Температурой вдоха Истока\".\n",
    "- Оценить степень износа магических источников поможет отношение \"Дыхания Истока\" к \"Гармонии Бессмертия\".\n",
    "- Абсолютное значение разницы между \"Дыханием Истока\" и \"Гармонией Бессмертия\" отразит расхождения в стабильности магии, а баланс угасания можно определить, разделив разницу между \"Дыханием Истока\" и \"Гармонией Бессмертия\" на \"Скорость перехода через портал\".\n",
    "\n",
    "Для этого создадим новые столбцы на основе данных датасета и создадим еще один датасет с расчетными показателями. "
   ]
  },
  {
   "cell_type": "code",
   "execution_count": 352,
   "metadata": {},
   "outputs": [],
   "source": [
    "df_calc = pd.DataFrame(df['Гармония Бессмертия'])\n",
    "df_calc['Суммарная сила потоков'] = df['Сила Левого Потока'] + df[\"Сила Правого Потока\"] + df[\"Приток Силы Потока\"]\n",
    "df_calc['Сила ядра'] = df['Ритм магического ядра'] * df[\"Приток Силы Потока\"]\n",
    "df_calc['Общее давление'] = df['Приток давления Выдоха Истока'] + df[\"Давление выдоха Истока\"]\n",
    "df_calc['Магическая производительность'] = df['Скорость перехода через портал'] / df[\"Эмульсия Истока\"]\n",
    "df_calc['Эффективность ядра'] = df_calc['Сила ядра'] / df[\"Эмульсия Истока\"]\n",
    "df_calc['Магическая мощность'] = df['Эмульсия Истока'] + df_calc[\"Общее давление\"] + (df['Пламя Стихий'])\n",
    "df_calc['Степень износа'] = df['Дыхание Истока'] / df[\"Гармония Бессмертия\"]\n",
    "df_calc['Расхождения в стабильности магии'] = df['Дыхание Истока'] - df[\"Гармония Бессмертия\"]\n",
    "df_calc['Баланс угасания'] = (df['Дыхание Истока'] - df[\"Гармония Бессмертия\"]) / df[\"Скорость перехода через портал\"]"
   ]
  },
  {
   "cell_type": "markdown",
   "metadata": {},
   "source": [
    "Так как в обоих датасетах очень большое количество аналитик, целесообразнее для оценки мультиколлинеарности показателей использовать метрику коэффициент инфляции дисперсии или VIF. \n",
    "\n",
    "VIF — это мера, которая помогает обнаружить степень мультиколлинеарности в множественной регрессионной модели. Он показывает, насколько увеличивается дисперсия коэффициента оценки из-за линейной зависимости с другими аналитиками.\n",
    "\n",
    "Высокие значения VIF указывают на потенциальные проблемы с мультиколлинеарностью. В данном случае будем принимать, что если значение VIF выше 5, между у аналитики существует большая линейная зависимость с другими переменными.\n",
    "\n",
    "Применим данный показатель для двух сформированных датасетов. Для каждой итерации из датасета будем убирать показатель, у которого метрика VIF будет самой  большой. Такую логику будем применять до тех пор, пока у оставшихся аналитик VIF будет менее 5. \n",
    "\n",
    "Переменная \"Гармония Бессмертия\" из датасетов будет убрана, так как является целевой."
   ]
  },
  {
   "cell_type": "code",
   "execution_count": 353,
   "metadata": {},
   "outputs": [],
   "source": [
    "df1 = df[[\n",
    "# Итерация 2 'Вектор Мощи',\n",
    "# Итерация 7  'Скорость перехода через портал',\n",
    "# Итерация 3  'Приток Силы Потока',\n",
    "# Итерация 8   'Ритм магического ядра',\n",
    "    'Поток Энергий',\n",
    "# Итерация 0  'Сила Левого Потока',\n",
    "# Итерация 0  'Сила Правого Потока',\n",
    "# Итерация 9   'Пламя Стихий',\n",
    "# Итерация 6    'Температура выдоха Истока',\n",
    "  # Итерация 1 'Приток давления Выдоха Истока',\n",
    "# Итерация 5   'Давление выдоха Истока',\n",
    "  'Древний Ветер',\n",
    "  'Печать Чародея',\n",
    "# Итерация 4   'Эмульсия Истока',\n",
    "    'Дыхание Истока'\n",
    "]]"
   ]
  },
  {
   "cell_type": "code",
   "execution_count": 354,
   "metadata": {},
   "outputs": [
    {
     "name": "stderr",
     "output_type": "stream",
     "text": [
      "C:\\Users\\Andrew\\AppData\\Local\\Temp\\ipykernel_18948\\3702151017.py:5: SettingWithCopyWarning: \n",
      "A value is trying to be set on a copy of a slice from a DataFrame.\n",
      "Try using .loc[row_indexer,col_indexer] = value instead\n",
      "\n",
      "See the caveats in the documentation: https://pandas.pydata.org/pandas-docs/stable/user_guide/indexing.html#returning-a-view-versus-a-copy\n",
      "  df1['CONSTANT'] = 1\n"
     ]
    },
    {
     "data": {
      "text/html": [
       "<div>\n",
       "<style scoped>\n",
       "    .dataframe tbody tr th:only-of-type {\n",
       "        vertical-align: middle;\n",
       "    }\n",
       "\n",
       "    .dataframe tbody tr th {\n",
       "        vertical-align: top;\n",
       "    }\n",
       "\n",
       "    .dataframe thead th {\n",
       "        text-align: right;\n",
       "    }\n",
       "</style>\n",
       "<table border=\"1\" class=\"dataframe\">\n",
       "  <thead>\n",
       "    <tr style=\"text-align: right;\">\n",
       "      <th></th>\n",
       "      <th>Variable</th>\n",
       "      <th>VIF</th>\n",
       "    </tr>\n",
       "  </thead>\n",
       "  <tbody>\n",
       "    <tr>\n",
       "      <th>0</th>\n",
       "      <td>Поток Энергий</td>\n",
       "      <td>4.0</td>\n",
       "    </tr>\n",
       "    <tr>\n",
       "      <th>1</th>\n",
       "      <td>Древний Ветер</td>\n",
       "      <td>1.0</td>\n",
       "    </tr>\n",
       "    <tr>\n",
       "      <th>2</th>\n",
       "      <td>Печать Чародея</td>\n",
       "      <td>4.0</td>\n",
       "    </tr>\n",
       "    <tr>\n",
       "      <th>3</th>\n",
       "      <td>Дыхание Истока</td>\n",
       "      <td>1.0</td>\n",
       "    </tr>\n",
       "    <tr>\n",
       "      <th>4</th>\n",
       "      <td>CONSTANT</td>\n",
       "      <td>4546.0</td>\n",
       "    </tr>\n",
       "  </tbody>\n",
       "</table>\n",
       "</div>"
      ],
      "text/plain": [
       "         Variable     VIF\n",
       "0   Поток Энергий     4.0\n",
       "1   Древний Ветер     1.0\n",
       "2  Печать Чародея     4.0\n",
       "3  Дыхание Истока     1.0\n",
       "4        CONSTANT  4546.0"
      ]
     },
     "execution_count": 354,
     "metadata": {},
     "output_type": "execute_result"
    }
   ],
   "source": [
    "from statsmodels.stats.outliers_influence import variance_inflation_factor\n",
    "from statsmodels.tools.tools import add_constant\n",
    "\n",
    "# добавление константы\n",
    "df1['CONSTANT'] = 1\n",
    "X = df1\n",
    "\n",
    "# расчет VIF для каждого предиктора\n",
    "VIFs = pd.DataFrame()\n",
    "VIFs['Variable'] = X.columns\n",
    "VIFs['VIF'] = [variance_inflation_factor(X.values, i) for i in range(X.shape[1])]\n",
    "VIFs.round()"
   ]
  },
  {
   "cell_type": "markdown",
   "metadata": {},
   "source": [
    "Таким образом, после нескольких итераций из первого датасета у нас осталось 4 паоказателя - Поток Энергии, Древний Ветер, Печать Чародея, Дыхание Истока.\n",
    "\n",
    "Далее рассмотрим датасет с расчетными показателями."
   ]
  },
  {
   "cell_type": "code",
   "execution_count": 355,
   "metadata": {},
   "outputs": [
    {
     "name": "stdout",
     "output_type": "stream",
     "text": [
      "Гармония Бессмертия                 float64\n",
      "Суммарная сила потоков              float64\n",
      "Сила ядра                           float64\n",
      "Общее давление                      float64\n",
      "Магическая производительность       float64\n",
      "Эффективность ядра                  float64\n",
      "Магическая мощность                 float64\n",
      "Степень износа                      float64\n",
      "Расхождения в стабильности магии    float64\n",
      "Баланс угасания                     float64\n",
      "dtype: object\n"
     ]
    }
   ],
   "source": [
    "print(df_calc.dtypes)"
   ]
  },
  {
   "cell_type": "code",
   "execution_count": 356,
   "metadata": {},
   "outputs": [],
   "source": [
    "df3 = df_calc[[\n",
    " # Итерация 2   'Суммарная сила потоков',\n",
    " # Итерация 5   'Сила ядра',\n",
    " # Итерация 3   'Общее давление',\n",
    "    'Магическая производительность',\n",
    "    'Эффективность ядра',\n",
    "# Итерация 4    'Магическая мощность',\n",
    "# Итерация 1    'Степень износа',\n",
    "    'Расхождения в стабильности магии',\n",
    "    'Баланс угасания'\n",
    "]]"
   ]
  },
  {
   "cell_type": "code",
   "execution_count": 357,
   "metadata": {},
   "outputs": [
    {
     "name": "stderr",
     "output_type": "stream",
     "text": [
      "C:\\Users\\Andrew\\AppData\\Local\\Temp\\ipykernel_18948\\596392072.py:2: SettingWithCopyWarning: \n",
      "A value is trying to be set on a copy of a slice from a DataFrame.\n",
      "Try using .loc[row_indexer,col_indexer] = value instead\n",
      "\n",
      "See the caveats in the documentation: https://pandas.pydata.org/pandas-docs/stable/user_guide/indexing.html#returning-a-view-versus-a-copy\n",
      "  df3['CONSTANT'] = 1\n"
     ]
    },
    {
     "data": {
      "text/html": [
       "<div>\n",
       "<style scoped>\n",
       "    .dataframe tbody tr th:only-of-type {\n",
       "        vertical-align: middle;\n",
       "    }\n",
       "\n",
       "    .dataframe tbody tr th {\n",
       "        vertical-align: top;\n",
       "    }\n",
       "\n",
       "    .dataframe thead th {\n",
       "        text-align: right;\n",
       "    }\n",
       "</style>\n",
       "<table border=\"1\" class=\"dataframe\">\n",
       "  <thead>\n",
       "    <tr style=\"text-align: right;\">\n",
       "      <th></th>\n",
       "      <th>Variable</th>\n",
       "      <th>VIF</th>\n",
       "    </tr>\n",
       "  </thead>\n",
       "  <tbody>\n",
       "    <tr>\n",
       "      <th>0</th>\n",
       "      <td>Магическая производительность</td>\n",
       "      <td>1.0</td>\n",
       "    </tr>\n",
       "    <tr>\n",
       "      <th>1</th>\n",
       "      <td>Эффективность ядра</td>\n",
       "      <td>2.0</td>\n",
       "    </tr>\n",
       "    <tr>\n",
       "      <th>2</th>\n",
       "      <td>Расхождения в стабильности магии</td>\n",
       "      <td>2.0</td>\n",
       "    </tr>\n",
       "    <tr>\n",
       "      <th>3</th>\n",
       "      <td>Баланс угасания</td>\n",
       "      <td>3.0</td>\n",
       "    </tr>\n",
       "    <tr>\n",
       "      <th>4</th>\n",
       "      <td>CONSTANT</td>\n",
       "      <td>37.0</td>\n",
       "    </tr>\n",
       "  </tbody>\n",
       "</table>\n",
       "</div>"
      ],
      "text/plain": [
       "                           Variable   VIF\n",
       "0     Магическая производительность   1.0\n",
       "1                Эффективность ядра   2.0\n",
       "2  Расхождения в стабильности магии   2.0\n",
       "3                   Баланс угасания   3.0\n",
       "4                          CONSTANT  37.0"
      ]
     },
     "execution_count": 357,
     "metadata": {},
     "output_type": "execute_result"
    }
   ],
   "source": [
    "# добавление константы\n",
    "df3['CONSTANT'] = 1\n",
    "X = df3\n",
    "\n",
    "# расчет VIF для каждого предиктора\n",
    "VIFs = pd.DataFrame()\n",
    "VIFs['Variable'] = X.columns\n",
    "VIFs['VIF'] = [variance_inflation_factor(X.values, i) for i in range(X.shape[1])]\n",
    "VIFs.round()"
   ]
  },
  {
   "cell_type": "markdown",
   "metadata": {},
   "source": [
    "Таким образом, после нескольких итераций из второго датасета у нас осталось 4 паоказателя - Магическая производительность, Эффективность ядра, Расхождения в стабильности магии, Баланс угасания.\n",
    "\n",
    "Далее соединим два датасета с отобранными показателями в один."
   ]
  },
  {
   "cell_type": "code",
   "execution_count": 362,
   "metadata": {},
   "outputs": [],
   "source": [
    "df['Суммарная сила потоков'] = df['Сила Левого Потока'] + df[\"Сила Правого Потока\"] + df[\"Приток Силы Потока\"]\n",
    "df['Сила ядра'] = df['Ритм магического ядра'] * df[\"Приток Силы Потока\"]\n",
    "df['Общее давление'] = df['Приток давления Выдоха Истока'] + df[\"Давление выдоха Истока\"]\n",
    "df['Магическая производительность'] = df['Скорость перехода через портал'] / df[\"Эмульсия Истока\"]\n",
    "df['Эффективность ядра'] = df['Сила ядра'] / df[\"Эмульсия Истока\"]\n",
    "df['Магическая мощность'] = df['Эмульсия Истока'] + df[\"Общее давление\"] + (df['Пламя Стихий'])\n",
    "df['Степень износа'] = df['Дыхание Истока'] / df[\"Гармония Бессмертия\"]\n",
    "df['Расхождения в стабильности магии'] = df['Дыхание Истока'] - df[\"Гармония Бессмертия\"]\n",
    "df['Баланс угасания'] = (df['Дыхание Истока'] - df[\"Гармония Бессмертия\"]) / df[\"Скорость перехода через портал\"]"
   ]
  },
  {
   "cell_type": "code",
   "execution_count": 367,
   "metadata": {},
   "outputs": [],
   "source": [
    "df_final = df[[\n",
    "'Поток Энергий',\n",
    "'Древний Ветер',\n",
    "'Печать Чародея',\n",
    "'Дыхание Истока',\n",
    "'Магическая производительность',\n",
    "'Эффективность ядра',\n",
    "'Расхождения в стабильности магии',\n",
    "'Баланс угасания',\n",
    "'Гармония Бессмертия'\n",
    "]]"
   ]
  },
  {
   "cell_type": "markdown",
   "metadata": {},
   "source": [
    "После создания итогового датасета произведем те же операции по поиску мультиколлинеарности, что и ранее. Отберем итоговые признаки."
   ]
  },
  {
   "cell_type": "code",
   "execution_count": 396,
   "metadata": {},
   "outputs": [],
   "source": [
    "df_final1 = df[[\n",
    "'Поток Энергий',\n",
    "'Древний Ветер',\n",
    "# Итерация 2 'Печать Чародея',\n",
    "'Дыхание Истока',\n",
    "'Магическая производительность',\n",
    "# Итерация 1 'Эффективность ядра',\n",
    "# Итерация 3 'Расхождения в стабильности магии',\n",
    "'Баланс угасания'\n",
    "#'Гармония Бессмертия'\n",
    "]]"
   ]
  },
  {
   "cell_type": "code",
   "execution_count": 397,
   "metadata": {},
   "outputs": [
    {
     "name": "stderr",
     "output_type": "stream",
     "text": [
      "C:\\Users\\Andrew\\AppData\\Local\\Temp\\ipykernel_18948\\4239083456.py:2: SettingWithCopyWarning: \n",
      "A value is trying to be set on a copy of a slice from a DataFrame.\n",
      "Try using .loc[row_indexer,col_indexer] = value instead\n",
      "\n",
      "See the caveats in the documentation: https://pandas.pydata.org/pandas-docs/stable/user_guide/indexing.html#returning-a-view-versus-a-copy\n",
      "  df_final1['CONSTANT'] = 1\n"
     ]
    },
    {
     "data": {
      "text/html": [
       "<div>\n",
       "<style scoped>\n",
       "    .dataframe tbody tr th:only-of-type {\n",
       "        vertical-align: middle;\n",
       "    }\n",
       "\n",
       "    .dataframe tbody tr th {\n",
       "        vertical-align: top;\n",
       "    }\n",
       "\n",
       "    .dataframe thead th {\n",
       "        text-align: right;\n",
       "    }\n",
       "</style>\n",
       "<table border=\"1\" class=\"dataframe\">\n",
       "  <thead>\n",
       "    <tr style=\"text-align: right;\">\n",
       "      <th></th>\n",
       "      <th>Variable</th>\n",
       "      <th>VIF</th>\n",
       "    </tr>\n",
       "  </thead>\n",
       "  <tbody>\n",
       "    <tr>\n",
       "      <th>0</th>\n",
       "      <td>Поток Энергий</td>\n",
       "      <td>2.0</td>\n",
       "    </tr>\n",
       "    <tr>\n",
       "      <th>1</th>\n",
       "      <td>Древний Ветер</td>\n",
       "      <td>1.0</td>\n",
       "    </tr>\n",
       "    <tr>\n",
       "      <th>2</th>\n",
       "      <td>Дыхание Истока</td>\n",
       "      <td>2.0</td>\n",
       "    </tr>\n",
       "    <tr>\n",
       "      <th>3</th>\n",
       "      <td>Магическая производительность</td>\n",
       "      <td>1.0</td>\n",
       "    </tr>\n",
       "    <tr>\n",
       "      <th>4</th>\n",
       "      <td>Баланс угасания</td>\n",
       "      <td>2.0</td>\n",
       "    </tr>\n",
       "    <tr>\n",
       "      <th>5</th>\n",
       "      <td>CONSTANT</td>\n",
       "      <td>8613.0</td>\n",
       "    </tr>\n",
       "  </tbody>\n",
       "</table>\n",
       "</div>"
      ],
      "text/plain": [
       "                        Variable     VIF\n",
       "0                  Поток Энергий     2.0\n",
       "1                  Древний Ветер     1.0\n",
       "2                 Дыхание Истока     2.0\n",
       "3  Магическая производительность     1.0\n",
       "4                Баланс угасания     2.0\n",
       "5                       CONSTANT  8613.0"
      ]
     },
     "execution_count": 397,
     "metadata": {},
     "output_type": "execute_result"
    }
   ],
   "source": [
    "# добавление константы\n",
    "df_final1['CONSTANT'] = 1\n",
    "X = df_final1\n",
    "\n",
    "# расчет VIF для каждого предиктора\n",
    "VIFs = pd.DataFrame()\n",
    "VIFs['Variable'] = X.columns\n",
    "VIFs['VIF'] = [variance_inflation_factor(X.values, i) for i in range(X.shape[1])]\n",
    "VIFs.round()"
   ]
  },
  {
   "cell_type": "code",
   "execution_count": 398,
   "metadata": {},
   "outputs": [
    {
     "data": {
      "image/png": "[encoded data removed]",
      "text/plain": [
       "<Figure size 640x480 with 2 Axes>"
      ]
     },
     "metadata": {},
     "output_type": "display_data"
    }
   ],
   "source": [
    "correlation_matrix = df_final1.corr()\n",
    "sns.heatmap(correlation_matrix, annot=True, cmap='coolwarm')\n",
    "plt.title('Корреляционная матрица')\n",
    "plt.show()"
   ]
  },
  {
   "cell_type": "markdown",
   "metadata": {},
   "source": [
    "После преобразования и отбора показателей, на основе метрики VIF и на основе корреляционной маттрицы выше, мы получили итоговый датасет с пятью показателями и одной целевой перемнной. \n",
    "\n",
    "Общий датасет представлен ниже.  "
   ]
  },
  {
   "cell_type": "code",
   "execution_count": 399,
   "metadata": {},
   "outputs": [],
   "source": [
    "df_final = df[[\n",
    "'Поток Энергий',\n",
    "'Древний Ветер',\n",
    "'Дыхание Истока',\n",
    "'Магическая производительность',\n",
    "'Расхождения в стабильности магии',\n",
    "'Гармония Бессмертия'\n",
    "]]"
   ]
  },
  {
   "cell_type": "code",
   "execution_count": 400,
   "metadata": {},
   "outputs": [
    {
     "data": {
      "text/html": [
       "<div>\n",
       "<style scoped>\n",
       "    .dataframe tbody tr th:only-of-type {\n",
       "        vertical-align: middle;\n",
       "    }\n",
       "\n",
       "    .dataframe tbody tr th {\n",
       "        vertical-align: top;\n",
       "    }\n",
       "\n",
       "    .dataframe thead th {\n",
       "        text-align: right;\n",
       "    }\n",
       "</style>\n",
       "<table border=\"1\" class=\"dataframe\">\n",
       "  <thead>\n",
       "    <tr style=\"text-align: right;\">\n",
       "      <th></th>\n",
       "      <th>Поток Энергий</th>\n",
       "      <th>Древний Ветер</th>\n",
       "      <th>Дыхание Истока</th>\n",
       "      <th>Магическая производительность</th>\n",
       "      <th>Расхождения в стабильности магии</th>\n",
       "      <th>Гармония Бессмертия</th>\n",
       "    </tr>\n",
       "  </thead>\n",
       "  <tbody>\n",
       "    <tr>\n",
       "      <th>0</th>\n",
       "      <td>6677.380</td>\n",
       "      <td>0.000</td>\n",
       "      <td>0.95</td>\n",
       "      <td>18.820976</td>\n",
       "      <td>-0.025</td>\n",
       "      <td>0.975</td>\n",
       "    </tr>\n",
       "    <tr>\n",
       "      <th>1</th>\n",
       "      <td>6828.469</td>\n",
       "      <td>1.019</td>\n",
       "      <td>0.95</td>\n",
       "      <td>10.754843</td>\n",
       "      <td>-0.025</td>\n",
       "      <td>0.975</td>\n",
       "    </tr>\n",
       "    <tr>\n",
       "      <th>2</th>\n",
       "      <td>7111.811</td>\n",
       "      <td>0.000</td>\n",
       "      <td>0.95</td>\n",
       "      <td>17.876293</td>\n",
       "      <td>-0.025</td>\n",
       "      <td>0.975</td>\n",
       "    </tr>\n",
       "    <tr>\n",
       "      <th>3</th>\n",
       "      <td>7792.630</td>\n",
       "      <td>0.000</td>\n",
       "      <td>0.95</td>\n",
       "      <td>17.243799</td>\n",
       "      <td>-0.025</td>\n",
       "      <td>0.975</td>\n",
       "    </tr>\n",
       "    <tr>\n",
       "      <th>4</th>\n",
       "      <td>8494.777</td>\n",
       "      <td>1.026</td>\n",
       "      <td>0.95</td>\n",
       "      <td>14.782759</td>\n",
       "      <td>-0.025</td>\n",
       "      <td>0.975</td>\n",
       "    </tr>\n",
       "    <tr>\n",
       "      <th>...</th>\n",
       "      <td>...</td>\n",
       "      <td>...</td>\n",
       "      <td>...</td>\n",
       "      <td>...</td>\n",
       "      <td>...</td>\n",
       "      <td>...</td>\n",
       "    </tr>\n",
       "    <tr>\n",
       "      <th>11929</th>\n",
       "      <td>8470.013</td>\n",
       "      <td>1.027</td>\n",
       "      <td>1.00</td>\n",
       "      <td>16.383439</td>\n",
       "      <td>0.000</td>\n",
       "      <td>1.000</td>\n",
       "    </tr>\n",
       "    <tr>\n",
       "      <th>11930</th>\n",
       "      <td>8800.352</td>\n",
       "      <td>0.000</td>\n",
       "      <td>1.00</td>\n",
       "      <td>14.312087</td>\n",
       "      <td>0.000</td>\n",
       "      <td>1.000</td>\n",
       "    </tr>\n",
       "    <tr>\n",
       "      <th>11931</th>\n",
       "      <td>9120.889</td>\n",
       "      <td>1.036</td>\n",
       "      <td>1.00</td>\n",
       "      <td>12.953525</td>\n",
       "      <td>0.000</td>\n",
       "      <td>1.000</td>\n",
       "    </tr>\n",
       "    <tr>\n",
       "      <th>11932</th>\n",
       "      <td>9300.274</td>\n",
       "      <td>0.000</td>\n",
       "      <td>1.00</td>\n",
       "      <td>10.745483</td>\n",
       "      <td>0.000</td>\n",
       "      <td>1.000</td>\n",
       "    </tr>\n",
       "    <tr>\n",
       "      <th>11933</th>\n",
       "      <td>9742.950</td>\n",
       "      <td>0.000</td>\n",
       "      <td>1.00</td>\n",
       "      <td>8.151338</td>\n",
       "      <td>0.000</td>\n",
       "      <td>1.000</td>\n",
       "    </tr>\n",
       "  </tbody>\n",
       "</table>\n",
       "<p>11934 rows × 6 columns</p>\n",
       "</div>"
      ],
      "text/plain": [
       "       Поток Энергий  Древний Ветер  Дыхание Истока  \\\n",
       "0           6677.380          0.000            0.95   \n",
       "1           6828.469          1.019            0.95   \n",
       "2           7111.811          0.000            0.95   \n",
       "3           7792.630          0.000            0.95   \n",
       "4           8494.777          1.026            0.95   \n",
       "...              ...            ...             ...   \n",
       "11929       8470.013          1.027            1.00   \n",
       "11930       8800.352          0.000            1.00   \n",
       "11931       9120.889          1.036            1.00   \n",
       "11932       9300.274          0.000            1.00   \n",
       "11933       9742.950          0.000            1.00   \n",
       "\n",
       "       Магическая производительность  Расхождения в стабильности магии  \\\n",
       "0                          18.820976                            -0.025   \n",
       "1                          10.754843                            -0.025   \n",
       "2                          17.876293                            -0.025   \n",
       "3                          17.243799                            -0.025   \n",
       "4                          14.782759                            -0.025   \n",
       "...                              ...                               ...   \n",
       "11929                      16.383439                             0.000   \n",
       "11930                      14.312087                             0.000   \n",
       "11931                      12.953525                             0.000   \n",
       "11932                      10.745483                             0.000   \n",
       "11933                       8.151338                             0.000   \n",
       "\n",
       "       Гармония Бессмертия  \n",
       "0                    0.975  \n",
       "1                    0.975  \n",
       "2                    0.975  \n",
       "3                    0.975  \n",
       "4                    0.975  \n",
       "...                    ...  \n",
       "11929                1.000  \n",
       "11930                1.000  \n",
       "11931                1.000  \n",
       "11932                1.000  \n",
       "11933                1.000  \n",
       "\n",
       "[11934 rows x 6 columns]"
      ]
     },
     "execution_count": 400,
     "metadata": {},
     "output_type": "execute_result"
    }
   ],
   "source": [
    "df_final"
   ]
  },
  {
   "cell_type": "code",
   "execution_count": 402,
   "metadata": {},
   "outputs": [],
   "source": [
    "df_final.to_csv(\"Data/Processed/Final.csv\")"
   ]
  },
  {
   "cell_type": "markdown",
   "metadata": {},
   "source": [
    "Итоговый обработанный датасет сохраняем в директорию Data/Processed."
   ]
  }
 ],
 "metadata": {
  "kernelspec": {
   "display_name": "Python 3",
   "language": "python",
   "name": "python3"
  },
  "language_info": {
   "codemirror_mode": {
    "name": "ipython",
    "version": 3
   },
   "file_extension": ".py",
   "mimetype": "text/x-python",
   "name": "python",
   "nbconvert_exporter": "python",
   "pygments_lexer": "ipython3",
   "version": "3.10.7"
  }
 },
 "nbformat": 4,
 "nbformat_minor": 2
}
