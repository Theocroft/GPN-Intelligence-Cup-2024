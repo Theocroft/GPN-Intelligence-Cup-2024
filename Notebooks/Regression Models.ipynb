{
 "cells": [
  {
   "cell_type": "markdown",
   "metadata": {},
   "source": [
    "## Подготовка моделей \n",
    "\n",
    "В данном ноутбуке будет производится подготовка моделей машинного обучения для прогнозирования. \n",
    "\n",
    "В рамках данной задачи будут протестированы следующие модели  машинного обучения. \n",
    "\n",
    "1. Линейная многофакторная регрессия для первичных экспериментов и оценки базовых параметров. \n",
    "2. Регуляризированные модели - для работы в условиях возможной мультиколлинеарности, и для работы по отбору признаков.\n",
    "3. Деревья решениий - для анализа работы в условиях наличия  нелинейных зависимостей. \n",
    "4. Случайный лес - для задачи, если итоговый признаки будут иметь сложную взаимосвязь. \n",
    "5. Градиентный  бустинг - как один из самых мощных методов машинного обучения. \n",
    "\n",
    "\n",
    "Также будут протестировано применение ансамблиевых методов регрессии - Stacking и Voting. "
   ]
  },
  {
   "cell_type": "markdown",
   "metadata": {},
   "source": [
    "## Подготовительный этап\n",
    "\n",
    "В рамках данного этапа будут подготовлены данные с двумя наборами переменных. С целевой переменной и предикторами, произведена загрузка стандартных библиотек, а также проведена нормализация признаков."
   ]
  },
  {
   "cell_type": "code",
   "execution_count": 23,
   "metadata": {},
   "outputs": [],
   "source": [
    "## Импорт стандартных библиотек\n",
    "import pandas as pd\n",
    "import numpy as np\n",
    "\n",
    "## Прочие библиотеки\n",
    "import warnings\n",
    "warnings.filterwarnings(\"ignore\")\n",
    "\n",
    "# Метрики\n",
    "from sklearn import model_selection, metrics\n",
    "from sklearn.metrics import mean_squared_error, r2_score, mean_absolute_error\n",
    "\n",
    "#Выбор моделей\n",
    "from sklearn.model_selection import train_test_split\n",
    "from sklearn.model_selection import cross_val_score\n",
    "from sklearn.model_selection import cross_validate\n",
    "\n",
    "# Модели машинного обучения\n",
    "from sklearn.linear_model import LinearRegression\n",
    "from sklearn.linear_model import Ridge\n",
    "from sklearn.linear_model import Lasso\n",
    "from sklearn.tree import DecisionTreeRegressor\n",
    "\n",
    "# Ансамбли\n",
    "from sklearn.ensemble import RandomForestRegressor\n",
    "from sklearn.ensemble import GradientBoostingRegressor\n",
    "\n",
    "from sklearn.ensemble import StackingRegressor\n",
    "from sklearn.ensemble import VotingRegressor\n",
    "\n",
    "# Прочее \n",
    "from sklearn.preprocessing import StandardScaler"
   ]
  },
  {
   "cell_type": "code",
   "execution_count": 24,
   "metadata": {},
   "outputs": [
    {
     "data": {
      "text/html": [
       "<div>\n",
       "<style scoped>\n",
       "    .dataframe tbody tr th:only-of-type {\n",
       "        vertical-align: middle;\n",
       "    }\n",
       "\n",
       "    .dataframe tbody tr th {\n",
       "        vertical-align: top;\n",
       "    }\n",
       "\n",
       "    .dataframe thead th {\n",
       "        text-align: right;\n",
       "    }\n",
       "</style>\n",
       "<table border=\"1\" class=\"dataframe\">\n",
       "  <thead>\n",
       "    <tr style=\"text-align: right;\">\n",
       "      <th></th>\n",
       "      <th>Поток Энергий</th>\n",
       "      <th>Древний Ветер</th>\n",
       "      <th>Дыхание Истока</th>\n",
       "      <th>Магическая производительность</th>\n",
       "      <th>Расхождения в стабильности магии</th>\n",
       "      <th>Гармония Бессмертия</th>\n",
       "    </tr>\n",
       "  </thead>\n",
       "  <tbody>\n",
       "    <tr>\n",
       "      <th>0</th>\n",
       "      <td>6677.380</td>\n",
       "      <td>0.000</td>\n",
       "      <td>0.95</td>\n",
       "      <td>18.820976</td>\n",
       "      <td>-0.025</td>\n",
       "      <td>0.975</td>\n",
       "    </tr>\n",
       "    <tr>\n",
       "      <th>1</th>\n",
       "      <td>6828.469</td>\n",
       "      <td>1.019</td>\n",
       "      <td>0.95</td>\n",
       "      <td>10.754843</td>\n",
       "      <td>-0.025</td>\n",
       "      <td>0.975</td>\n",
       "    </tr>\n",
       "    <tr>\n",
       "      <th>2</th>\n",
       "      <td>7111.811</td>\n",
       "      <td>0.000</td>\n",
       "      <td>0.95</td>\n",
       "      <td>17.876293</td>\n",
       "      <td>-0.025</td>\n",
       "      <td>0.975</td>\n",
       "    </tr>\n",
       "    <tr>\n",
       "      <th>3</th>\n",
       "      <td>7792.630</td>\n",
       "      <td>0.000</td>\n",
       "      <td>0.95</td>\n",
       "      <td>17.243799</td>\n",
       "      <td>-0.025</td>\n",
       "      <td>0.975</td>\n",
       "    </tr>\n",
       "    <tr>\n",
       "      <th>4</th>\n",
       "      <td>8494.777</td>\n",
       "      <td>1.026</td>\n",
       "      <td>0.95</td>\n",
       "      <td>14.782759</td>\n",
       "      <td>-0.025</td>\n",
       "      <td>0.975</td>\n",
       "    </tr>\n",
       "    <tr>\n",
       "      <th>...</th>\n",
       "      <td>...</td>\n",
       "      <td>...</td>\n",
       "      <td>...</td>\n",
       "      <td>...</td>\n",
       "      <td>...</td>\n",
       "      <td>...</td>\n",
       "    </tr>\n",
       "    <tr>\n",
       "      <th>11929</th>\n",
       "      <td>8470.013</td>\n",
       "      <td>1.027</td>\n",
       "      <td>1.00</td>\n",
       "      <td>16.383439</td>\n",
       "      <td>0.000</td>\n",
       "      <td>1.000</td>\n",
       "    </tr>\n",
       "    <tr>\n",
       "      <th>11930</th>\n",
       "      <td>8800.352</td>\n",
       "      <td>0.000</td>\n",
       "      <td>1.00</td>\n",
       "      <td>14.312087</td>\n",
       "      <td>0.000</td>\n",
       "      <td>1.000</td>\n",
       "    </tr>\n",
       "    <tr>\n",
       "      <th>11931</th>\n",
       "      <td>9120.889</td>\n",
       "      <td>1.036</td>\n",
       "      <td>1.00</td>\n",
       "      <td>12.953525</td>\n",
       "      <td>0.000</td>\n",
       "      <td>1.000</td>\n",
       "    </tr>\n",
       "    <tr>\n",
       "      <th>11932</th>\n",
       "      <td>9300.274</td>\n",
       "      <td>0.000</td>\n",
       "      <td>1.00</td>\n",
       "      <td>10.745483</td>\n",
       "      <td>0.000</td>\n",
       "      <td>1.000</td>\n",
       "    </tr>\n",
       "    <tr>\n",
       "      <th>11933</th>\n",
       "      <td>9742.950</td>\n",
       "      <td>0.000</td>\n",
       "      <td>1.00</td>\n",
       "      <td>8.151338</td>\n",
       "      <td>0.000</td>\n",
       "      <td>1.000</td>\n",
       "    </tr>\n",
       "  </tbody>\n",
       "</table>\n",
       "<p>11934 rows × 6 columns</p>\n",
       "</div>"
      ],
      "text/plain": [
       "       Поток Энергий  Древний Ветер  Дыхание Истока  \\\n",
       "0           6677.380          0.000            0.95   \n",
       "1           6828.469          1.019            0.95   \n",
       "2           7111.811          0.000            0.95   \n",
       "3           7792.630          0.000            0.95   \n",
       "4           8494.777          1.026            0.95   \n",
       "...              ...            ...             ...   \n",
       "11929       8470.013          1.027            1.00   \n",
       "11930       8800.352          0.000            1.00   \n",
       "11931       9120.889          1.036            1.00   \n",
       "11932       9300.274          0.000            1.00   \n",
       "11933       9742.950          0.000            1.00   \n",
       "\n",
       "       Магическая производительность  Расхождения в стабильности магии  \\\n",
       "0                          18.820976                            -0.025   \n",
       "1                          10.754843                            -0.025   \n",
       "2                          17.876293                            -0.025   \n",
       "3                          17.243799                            -0.025   \n",
       "4                          14.782759                            -0.025   \n",
       "...                              ...                               ...   \n",
       "11929                      16.383439                             0.000   \n",
       "11930                      14.312087                             0.000   \n",
       "11931                      12.953525                             0.000   \n",
       "11932                      10.745483                             0.000   \n",
       "11933                       8.151338                             0.000   \n",
       "\n",
       "       Гармония Бессмертия  \n",
       "0                    0.975  \n",
       "1                    0.975  \n",
       "2                    0.975  \n",
       "3                    0.975  \n",
       "4                    0.975  \n",
       "...                    ...  \n",
       "11929                1.000  \n",
       "11930                1.000  \n",
       "11931                1.000  \n",
       "11932                1.000  \n",
       "11933                1.000  \n",
       "\n",
       "[11934 rows x 6 columns]"
      ]
     },
     "execution_count": 24,
     "metadata": {},
     "output_type": "execute_result"
    }
   ],
   "source": [
    "# Загрузка данных\n",
    "df = pd.read_csv(\"Data/Processed/Final.csv\")\n",
    "df = pd.DataFrame(df)\n",
    "df"
   ]
  },
  {
   "cell_type": "code",
   "execution_count": 25,
   "metadata": {},
   "outputs": [],
   "source": [
    "# Отделение целевой переменной от остальных\n",
    "X = df.drop(\"Гармония Бессмертия\", axis = 1 )\n",
    "Y = df['Гармония Бессмертия']"
   ]
  },
  {
   "cell_type": "code",
   "execution_count": 26,
   "metadata": {},
   "outputs": [],
   "source": [
    "from sklearn.model_selection import train_test_split\n",
    "from sklearn.preprocessing import StandardScaler\n",
    "\n",
    "X_train, X_test, y_train, y_test = train_test_split(X,\n",
    "                                                    Y,\n",
    "                                                    test_size=0.2,\n",
    "                                                    random_state=42)\n",
    "st = StandardScaler()\n",
    "X_train = st.fit_transform(X_train)\n",
    "X_test = st.transform(X_test)"
   ]
  },
  {
   "cell_type": "markdown",
   "metadata": {},
   "source": [
    "Предварительные данные готовы. Можно приступать к построению моделей."
   ]
  },
  {
   "cell_type": "markdown",
   "metadata": {},
   "source": [
    "### Этап построения моделей. "
   ]
  },
  {
   "cell_type": "markdown",
   "metadata": {},
   "source": [
    "Зададим основные модели, которые будем рассмотривать в данном кейсе. "
   ]
  },
  {
   "cell_type": "code",
   "execution_count": 27,
   "metadata": {},
   "outputs": [],
   "source": [
    "model_LR = LinearRegression()\n",
    "model_Ridge = Ridge()\n",
    "model_Lasso = Lasso()\n",
    "model_DTR = DecisionTreeRegressor()\n",
    "model_GBR = GradientBoostingRegressor()\n",
    "model_RFR = RandomForestRegressor()"
   ]
  },
  {
   "cell_type": "markdown",
   "metadata": {},
   "source": [
    "В рамках кейса были выбраны следующие модели. \n",
    "\n",
    "- Линейная регрессия – как одна из самых простых и широко используемых моделей в машинном обучении. Модель используется в нашем случае для того, чтобы предллварительно оценить набор данных, их взаимосвязи и т.л. Не ожидается, что модель будет иметь адекватныые показатели качества. \n",
    "\n",
    "Модели регуляризации будут использоваться из-за того, что в изначальном датасете данные у нас были высококоррелирвоаны между собой. В нашем  случае мы также ожидаем, что это повлияет на финальный датасет. Использование моделей с регуляризацией позволит снизить это влияние. \n",
    "\n",
    "- Регрессия Ridge добавляет штраф за сложность модели путем добавления квадрата коэффициентов модели к функции потерь. Это помогает избежать переобучения, ограничивая размер коэффициентов.\n",
    "- Lasso аналогична Ridge, но использует штраф за абсолютную величину коэффициентов , что приводит к тому, что некоторые коэффициенты становятся равными нулю. Это позволяет автоматически проводить отбор признаков.\n",
    "\n",
    "Деревья решений используются для того, чтобы понять общий уровень качества будущей модели для применения более продвинутых ансамблиевыхх моделей, которые описаны ниже. \n",
    "\n",
    "- Деревья решений строят иерархию правил принятия решений, разбивая пространство признаков на области, в каждой из которых делается предсказание среднего значения целевой переменной. Для каждого узла дерева выбирается признак, который наилучшим образом разделяет данные на подмножества. Деревья решений подвержены переобучению. Так что с высокой долей вероятности, такие модели будут отброшены. \n",
    "\n",
    "- Градиентный бустинг представляет собой ансамблевый метод, который последовательно строит множество слабых моделей, каждая из которых пытается исправить ошибки предыдущей модели. \n",
    "\n",
    "- Случайный лес состоит из множества деревьев решений, каждое из которых строится на случайной подвыборке данных и случайном подмножестве признаков. Прогнозирование осуществляется путем усреднения предсказаний всех деревьев."
   ]
  },
  {
   "cell_type": "markdown",
   "metadata": {},
   "source": [
    "Для более оптимального построения моделей создадим несколько функций. \n",
    "- функция загрузки данных в модель машинного обучения и вывод основных метрик. \n",
    "- проверка модели на уровень переобучениия. \n",
    "Данные функции далее будут объединены в одну функцию для организации более полного отчета о работе модели. "
   ]
  },
  {
   "cell_type": "code",
   "execution_count": 28,
   "metadata": {},
   "outputs": [],
   "source": [
    "# Модель для оценки качества моделей. На вход принимает саму модель и данные для обучения и теста\n",
    "def model_work(model, X_train, y_train, X_test, y_test):\n",
    "    model.fit(X_train, y_train)\n",
    "    predictions = model.predict(X_test)\n",
    "    rmse = mean_squared_error(y_test, predictions) ** 0.5\n",
    "    mae = mean_absolute_error(y_test, predictions)\n",
    "    r2 = r2_score(y_test, predictions)\n",
    "    print(f\"Метрики модели: {model}\")\n",
    "    print(f\"RMSE: {rmse}\")\n",
    "    print(f\"MAE: {mae}\")\n",
    "    print(f\"R^2: {r2}\")"
   ]
  },
  {
   "cell_type": "markdown",
   "metadata": {},
   "source": [
    "Ниже представлена функция, которая проверяет общий уровень переобучения. \n",
    "\n",
    "Алгоритм функции: \n",
    "\n",
    "1. Сначала модель делает прогнозы на основе обучающих данных (X_train) и тестовых данных (X_test).\n",
    "2. Затем функция применяет переданную метрику к прогнозам и реальным значениям для обеих выборок (тренировочной и тестовой).\n",
    "3. После этого выводятся результаты применения метрики к обеим выборкам: рассчитывается разница между значениями метрик на тренировочном и тестовом наборах данных, выраженная в процентах от значения на тесте.\n",
    "4. Если значение дельты велико, то это может свидетельствовать о наличии переобучения.\n",
    "\n",
    "metric - метрика, используемая для оценки точности модели. В нашем случае такой метрикой будет MAE."
   ]
  },
  {
   "cell_type": "code",
   "execution_count": 29,
   "metadata": {},
   "outputs": [],
   "source": [
    "def overfitting(model, X_train, y_train, X_test, y_test, metric):\n",
    "    y_pred_train = model.predict(X_train)\n",
    "    y_pred_test = model.predict(X_test)\n",
    "    value_train = metric(y_train, y_pred_train)\n",
    "    value_test = metric(y_test, y_pred_test)\n",
    "    delta = (abs(value_train - value_test)/value_test*100)\n",
    "\n",
    "    print(f'{metric.__name__} train: %.3f' % value_train)\n",
    "    print(f'{metric.__name__} test: %.3f' % value_test)\n",
    "    print(f'delta = {(abs(value_train - value_test)/value_test*100):.1f} %')\n",
    "    if delta > 10:\n",
    "        return print(\"Модель склонна к переобучению\")\n",
    "    else:\n",
    "        return print(\"Модель не склонна к переобучению\")"
   ]
  },
  {
   "cell_type": "code",
   "execution_count": 30,
   "metadata": {},
   "outputs": [],
   "source": [
    "def report(model, X_train, y_train, X_test, y_test):\n",
    "    print(f\"\\nОтчет о метриках качества модели: {model}\")\n",
    "    model_work(model, X_train, y_train, X_test, y_test)\n",
    "    print(f\"\\nОтчет о метриках переобучения модели: {model}\\n\")\n",
    "    overfitting(model, X_train, y_train, X_test, y_test, mean_absolute_error)"
   ]
  },
  {
   "cell_type": "markdown",
   "metadata": {},
   "source": [
    "Итоговая функция report готова. Функция будет выводить основную информацию по модели\n",
    "\n",
    "Далее проверим последовательно все вышеописанные модели на нашем датасете."
   ]
  },
  {
   "cell_type": "code",
   "execution_count": 31,
   "metadata": {},
   "outputs": [
    {
     "name": "stdout",
     "output_type": "stream",
     "text": [
      "\n",
      "Отчет о метриках качества модели: LinearRegression()\n",
      "Метрики модели: LinearRegression()\n",
      "RMSE: 2.220446049250313e-16\n",
      "MAE: 2.220446049250313e-16\n",
      "R^2: 1.0\n",
      "\n",
      "Отчет о метриках переобучения модели: LinearRegression()\n",
      "\n",
      "mean_absolute_error train: 0.000\n",
      "mean_absolute_error test: 0.000\n",
      "delta = 0.0 %\n",
      "Модель не склонна к переобучению\n"
     ]
    }
   ],
   "source": [
    "report(model_LR, X_train, y_train, X_test, y_test)\n"
   ]
  },
  {
   "cell_type": "code",
   "execution_count": 32,
   "metadata": {},
   "outputs": [
    {
     "name": "stdout",
     "output_type": "stream",
     "text": [
      "\n",
      "Отчет о метриках качества модели: Ridge()\n",
      "Метрики модели: Ridge()\n",
      "RMSE: 7.170107085913626e-06\n",
      "MAE: 6.161401499039515e-06\n",
      "R^2: 0.9999990978047385\n",
      "\n",
      "Отчет о метриках переобучения модели: Ridge()\n",
      "\n",
      "mean_absolute_error train: 0.000\n",
      "mean_absolute_error test: 0.000\n",
      "delta = 1.5 %\n",
      "Модель не склонна к переобучению\n"
     ]
    }
   ],
   "source": [
    "report(model_Ridge, X_train, y_train, X_test, y_test)"
   ]
  },
  {
   "cell_type": "code",
   "execution_count": 33,
   "metadata": {},
   "outputs": [
    {
     "name": "stdout",
     "output_type": "stream",
     "text": [
      "\n",
      "Отчет о метриках качества модели: Lasso()\n",
      "Метрики модели: Lasso()\n",
      "RMSE: 0.007550256984551614\n",
      "MAE: 0.0065406189447756394\n",
      "R^2: -0.00039779410217088973\n",
      "\n",
      "Отчет о метриках переобучения модели: Lasso()\n",
      "\n",
      "mean_absolute_error train: 0.006\n",
      "mean_absolute_error test: 0.007\n",
      "delta = 0.8 %\n",
      "Модель не склонна к переобучению\n"
     ]
    }
   ],
   "source": [
    "report(model_Lasso, X_train, y_train, X_test, y_test)"
   ]
  },
  {
   "cell_type": "code",
   "execution_count": 34,
   "metadata": {},
   "outputs": [
    {
     "name": "stdout",
     "output_type": "stream",
     "text": [
      "\n",
      "Отчет о метриках качества модели: DecisionTreeRegressor()\n",
      "Метрики модели: DecisionTreeRegressor()\n",
      "RMSE: 7.933884487360704e-17\n",
      "MAE: 4.7767031683704893e-17\n",
      "R^2: 1.0\n",
      "\n",
      "Отчет о метриках переобучения модели: DecisionTreeRegressor()\n",
      "\n",
      "mean_absolute_error train: 0.000\n",
      "mean_absolute_error test: 0.000\n",
      "delta = 28.9 %\n",
      "Модель склонна к переобучению\n"
     ]
    }
   ],
   "source": [
    "report(model_DTR, X_train, y_train, X_test, y_test)"
   ]
  },
  {
   "cell_type": "code",
   "execution_count": 35,
   "metadata": {},
   "outputs": [
    {
     "name": "stdout",
     "output_type": "stream",
     "text": [
      "\n",
      "Отчет о метриках качества модели: GradientBoostingRegressor()\n",
      "Метрики модели: GradientBoostingRegressor()\n",
      "RMSE: 0.0006024453615377511\n",
      "MAE: 0.0004206512359609691\n",
      "R^2: 0.9936308043801234\n",
      "\n",
      "Отчет о метриках переобучения модели: GradientBoostingRegressor()\n",
      "\n",
      "mean_absolute_error train: 0.000\n",
      "mean_absolute_error test: 0.000\n",
      "delta = 5.4 %\n",
      "Модель не склонна к переобучению\n"
     ]
    }
   ],
   "source": [
    "report(model_GBR, X_train, y_train, X_test, y_test)"
   ]
  },
  {
   "cell_type": "code",
   "execution_count": 36,
   "metadata": {},
   "outputs": [
    {
     "name": "stdout",
     "output_type": "stream",
     "text": [
      "\n",
      "Отчет о метриках качества модели: RandomForestRegressor()\n",
      "Метрики модели: RandomForestRegressor()\n",
      "RMSE: 6.186529415475648e-05\n",
      "MAE: 3.720150816932996e-05\n",
      "R^2: 0.9999328349376289\n",
      "\n",
      "Отчет о метриках переобучения модели: RandomForestRegressor()\n",
      "\n",
      "mean_absolute_error train: 0.000\n",
      "mean_absolute_error test: 0.000\n",
      "delta = 58.2 %\n",
      "Модель склонна к переобучению\n"
     ]
    }
   ],
   "source": [
    "report(model_RFR, X_train, y_train, X_test, y_test)"
   ]
  },
  {
   "cell_type": "markdown",
   "metadata": {},
   "source": [
    "Таким образом, лучше всего для нашего кейса подходят модели стандартной регрессии и модели Lasso и Ridge с регуляризацией. Несмотря на то,  что модель градиентного бустинга и также показала хороший результат, уровень склонности к переобучению у нее несколько выше, чем у моделей выше. \n",
    "\n",
    "Модели, основанные на дереве решений, было решено не использовать из-за высокого уровня переобучения. "
   ]
  },
  {
   "cell_type": "markdown",
   "metadata": {},
   "source": [
    "#### Дополнительно. \n",
    "\n",
    "Дополнительно рассмотрим возможность объединения моделений линейной регрессии, Lasso и Ridge в один ансамбль. Посмотрим, как будет работать итоговая модель. \n",
    "\n",
    "Всего будет рассмотрено два стандартных ансамблиевых метода. \n",
    "\n",
    "2. Voting-ансамбли или ансамбли голосования объединяют несколько моделей в один ансамбль, где каждая их них делает предсказание, и  окончательное предсказание выбирается на основе большинства голосов  моделей.  \n",
    "1. Stacking-ансамбли или ансамбли вывода, объединяют несколько моделей в ансамбль, где каждая их них делает предсказание, и эти  предсказания используются как входные данные для следующего уровня  моделей.  \n",
    "\n",
    "Ожидается, что Stacking-ансабль из моделей будет ппоказывать более хорошие результаты, так как он лучше подходит для решения задач регрессии. "
   ]
  },
  {
   "cell_type": "code",
   "execution_count": 37,
   "metadata": {},
   "outputs": [],
   "source": [
    "ensemble_stack = StackingRegressor([('lr', LinearRegression()),\n",
    "                            ('Ridge', Ridge()),\n",
    "                            ('Lasso', Lasso())])"
   ]
  },
  {
   "cell_type": "code",
   "execution_count": 38,
   "metadata": {},
   "outputs": [],
   "source": [
    "ensemble_vote = VotingRegressor([('lr', LinearRegression()),\n",
    "                            ('Ridge', Ridge()),\n",
    "                            ('Lasso', Lasso())])"
   ]
  },
  {
   "cell_type": "code",
   "execution_count": 39,
   "metadata": {},
   "outputs": [
    {
     "name": "stdout",
     "output_type": "stream",
     "text": [
      "\n",
      "Отчет о метриках качества модели: StackingRegressor(estimators=[('lr', LinearRegression()), ('Ridge', Ridge()),\n",
      "                              ('Lasso', Lasso())])\n",
      "Метрики модели: StackingRegressor(estimators=[('lr', LinearRegression()), ('Ridge', Ridge()),\n",
      "                              ('Lasso', Lasso())])\n",
      "RMSE: 0.0006449818273022902\n",
      "MAE: 0.0005587410539845208\n",
      "R^2: 0.9926996410467237\n",
      "\n",
      "Отчет о метриках переобучения модели: StackingRegressor(estimators=[('lr', LinearRegression()), ('Ridge', Ridge()),\n",
      "                              ('Lasso', Lasso())])\n",
      "\n",
      "mean_absolute_error train: 0.001\n",
      "mean_absolute_error test: 0.001\n",
      "delta = 0.8 %\n",
      "Модель не склонна к переобучению\n"
     ]
    }
   ],
   "source": [
    "report(ensemble_stack, X_train, y_train, X_test, y_test)"
   ]
  },
  {
   "cell_type": "code",
   "execution_count": 40,
   "metadata": {},
   "outputs": [
    {
     "name": "stdout",
     "output_type": "stream",
     "text": [
      "\n",
      "Отчет о метриках качества модели: VotingRegressor(estimators=[('lr', LinearRegression()), ('Ridge', Ridge()),\n",
      "                            ('Lasso', Lasso())])\n",
      "Метрики модели: VotingRegressor(estimators=[('lr', LinearRegression()), ('Ridge', Ridge()),\n",
      "                            ('Lasso', Lasso())])\n",
      "RMSE: 0.0025190786020049963\n",
      "MAE: 0.0021822275581452593\n",
      "R^2: 0.8886391093688234\n",
      "\n",
      "Отчет о метриках переобучения модели: VotingRegressor(estimators=[('lr', LinearRegression()), ('Ridge', Ridge()),\n",
      "                            ('Lasso', Lasso())])\n",
      "\n",
      "mean_absolute_error train: 0.002\n",
      "mean_absolute_error test: 0.002\n",
      "delta = 0.8 %\n",
      "Модель не склонна к переобучению\n"
     ]
    }
   ],
   "source": [
    "report(ensemble_vote, X_train, y_train, X_test, y_test)"
   ]
  },
  {
   "cell_type": "markdown",
   "metadata": {},
   "source": [
    "Как видим, результаты Stacking-ансамля показывают более лучше рещультаты по метрикам (по коэффициенту детерминации, например). Поэтому в итоге можно сказать, что лучше всего для решения задачи нам будут подходить следующие модели:\n",
    "\n",
    "1. Модель линейной регрессии (с учетом того, что в датасете необходимо работать над решение проблемы мультиколлинеарности факторов). \n",
    "2. Модели Lasso и Ridge, так как они лучше всего работаю в условиях, когда данные имеют очень тесные связи. \n",
    "3. Stacking-ансамли, которые включают модели линейной регрессии и и модели с регуляризацией. "
   ]
  }
 ],
 "metadata": {
  "kernelspec": {
   "display_name": "Python 3",
   "language": "python",
   "name": "python3"
  },
  "language_info": {
   "codemirror_mode": {
    "name": "ipython",
    "version": 3
   },
   "file_extension": ".py",
   "mimetype": "text/x-python",
   "name": "python",
   "nbconvert_exporter": "python",
   "pygments_lexer": "ipython3",
   "version": "3.10.7"
  }
 },
 "nbformat": 4,
 "nbformat_minor": 2
}
